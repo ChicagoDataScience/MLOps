{
 "cells": [
  {
   "cell_type": "code",
   "execution_count": 1,
   "metadata": {},
   "outputs": [
    {
     "data": {
      "text/html": [
       "<div>\n",
       "<style scoped>\n",
       "    .dataframe tbody tr th:only-of-type {\n",
       "        vertical-align: middle;\n",
       "    }\n",
       "\n",
       "    .dataframe tbody tr th {\n",
       "        vertical-align: top;\n",
       "    }\n",
       "\n",
       "    .dataframe thead th {\n",
       "        text-align: right;\n",
       "    }\n",
       "</style>\n",
       "<table border=\"1\" class=\"dataframe\">\n",
       "  <thead>\n",
       "    <tr style=\"text-align: right;\">\n",
       "      <th></th>\n",
       "      <th>uid</th>\n",
       "      <th>rec</th>\n",
       "      <th>pred_time</th>\n",
       "    </tr>\n",
       "  </thead>\n",
       "  <tbody>\n",
       "    <tr>\n",
       "      <th>0</th>\n",
       "      <td>535</td>\n",
       "      <td>[\"Schindler's List (1993)\" 'Raiders of the Los...</td>\n",
       "      <td>2020-09-23 17:54:21.091392</td>\n",
       "    </tr>\n",
       "    <tr>\n",
       "      <th>1</th>\n",
       "      <td>45</td>\n",
       "      <td>['Good Will Hunting (1997)' 'L.A. Confidential...</td>\n",
       "      <td>2020-09-23 17:54:21.091392</td>\n",
       "    </tr>\n",
       "    <tr>\n",
       "      <th>2</th>\n",
       "      <td>111</td>\n",
       "      <td>['Good Will Hunting (1997)' 'Titanic (1997)' '...</td>\n",
       "      <td>2020-09-23 17:54:21.091392</td>\n",
       "    </tr>\n",
       "    <tr>\n",
       "      <th>3</th>\n",
       "      <td>125</td>\n",
       "      <td>['Mrs. Brown (Her Majesty, Mrs. Brown) (1997)'...</td>\n",
       "      <td>2020-09-23 17:54:21.091392</td>\n",
       "    </tr>\n",
       "    <tr>\n",
       "      <th>4</th>\n",
       "      <td>504</td>\n",
       "      <td>['Raiders of the Lost Ark (1981)' \"Schindler's...</td>\n",
       "      <td>2020-09-23 17:54:21.091392</td>\n",
       "    </tr>\n",
       "  </tbody>\n",
       "</table>\n",
       "</div>"
      ],
      "text/plain": [
       "   uid                                                rec  \\\n",
       "0  535  [\"Schindler's List (1993)\" 'Raiders of the Los...   \n",
       "1   45  ['Good Will Hunting (1997)' 'L.A. Confidential...   \n",
       "2  111  ['Good Will Hunting (1997)' 'Titanic (1997)' '...   \n",
       "3  125  ['Mrs. Brown (Her Majesty, Mrs. Brown) (1997)'...   \n",
       "4  504  ['Raiders of the Lost Ark (1981)' \"Schindler's...   \n",
       "\n",
       "                    pred_time  \n",
       "0  2020-09-23 17:54:21.091392  \n",
       "1  2020-09-23 17:54:21.091392  \n",
       "2  2020-09-23 17:54:21.091392  \n",
       "3  2020-09-23 17:54:21.091392  \n",
       "4  2020-09-23 17:54:21.091392  "
      ]
     },
     "execution_count": 1,
     "metadata": {},
     "output_type": "execute_result"
    }
   ],
   "source": [
    "import pandas as pd\n",
    "from google.cloud import bigquery\n",
    "client = bigquery.Client()\n",
    "sql = \"select * from movie_recommendation_service.predicted_movies\"\n",
    "df = client.query(sql).to_dataframe().head()\n",
    "df.head()"
   ]
  },
  {
   "cell_type": "code",
   "execution_count": 15,
   "metadata": {},
   "outputs": [
    {
     "data": {
      "text/plain": [
       "'[\"Schindler\\'s List (1993)\" \\'Raiders of the Lost Ark (1981)\\'\\n \"It\\'s a Wonderful Life (1946)\" \\'Wizard of Oz, The (1939)\\'\\n \\'Star Wars (1977)\\' \\'Dances with Wolves (1990)\\'\\n \\'Princess Bride, The (1987)\\' \\'Amadeus (1984)\\' \\'Blade Runner (1982)\\'\\n \\'Toy Story (1995)\\']'"
      ]
     },
     "execution_count": 15,
     "metadata": {},
     "output_type": "execute_result"
    }
   ],
   "source": [
    "sql = \"select * from movie_recommendation_service.predicted_movies where uid=535\"\n",
    "df = client.query(sql).to_dataframe().head()\n",
    "df['rec'].values[0]"
   ]
  }
 ],
 "metadata": {
  "kernelspec": {
   "display_name": "Python 3",
   "language": "python",
   "name": "python3"
  },
  "language_info": {
   "codemirror_mode": {
    "name": "ipython",
    "version": 3
   },
   "file_extension": ".py",
   "mimetype": "text/x-python",
   "name": "python",
   "nbconvert_exporter": "python",
   "pygments_lexer": "ipython3",
   "version": "3.7.6"
  }
 },
 "nbformat": 4,
 "nbformat_minor": 4
}
